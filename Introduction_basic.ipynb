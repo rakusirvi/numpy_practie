{
 "cells": [
  {
   "cell_type": "code",
   "execution_count": 33,
   "id": "ecb4918b",
   "metadata": {},
   "outputs": [],
   "source": [
    "import pandas as pd"
   ]
  },
  {
   "cell_type": "markdown",
   "id": "acc87fb2",
   "metadata": {},
   "source": [
    "Two Core Data Structures\n",
    "\n",
    "(a) --> Series → 1D labeled array\n",
    "\n",
    "(b) --> DataFrame → 2D labeled table (like Excel/SQL table)\n"
   ]
  },
  {
   "cell_type": "code",
   "execution_count": 34,
   "id": "2359cf95",
   "metadata": {},
   "outputs": [
    {
     "name": "stdout",
     "output_type": "stream",
     "text": [
      "a    10\n",
      "b    20\n",
      "c    30\n",
      "d    40\n",
      "dtype: int64\n"
     ]
    }
   ],
   "source": [
    "s = pd.Series([10, 20, 30, 40], index=['a', 'b', 'c', 'd'])\n",
    "print(s)"
   ]
  },
  {
   "cell_type": "code",
   "execution_count": 35,
   "id": "fdbc2eaa",
   "metadata": {},
   "outputs": [
    {
     "name": "stdout",
     "output_type": "stream",
     "text": [
      "      Name  Age  Salary\n",
      "0    Alice   25   50000\n",
      "1      Bob   30   60000\n",
      "2  Charlie   35   70000\n"
     ]
    }
   ],
   "source": [
    "data = {\n",
    "    \"Name\": [\"Alice\", \"Bob\", \"Charlie\"],\n",
    "    \"Age\": [25, 30, 35],\n",
    "    \"Salary\": [50000, 60000, 70000]\n",
    "}\n",
    "\n",
    "df = pd.DataFrame(data)\n",
    "print(df)\n"
   ]
  },
  {
   "cell_type": "code",
   "execution_count": 36,
   "id": "9e257a58",
   "metadata": {},
   "outputs": [
    {
     "name": "stdout",
     "output_type": "stream",
     "text": [
      "(3, 3)\n",
      "\n",
      "\n",
      "Index(['Name', 'Age', 'Salary'], dtype='object')\n",
      "\n",
      "\n",
      "RangeIndex(start=0, stop=3, step=1)\n",
      "\n",
      "\n",
      "Name      object\n",
      "Age        int64\n",
      "Salary     int64\n",
      "dtype: object\n",
      "\n",
      "\n",
      "<class 'pandas.core.frame.DataFrame'>\n",
      "RangeIndex: 3 entries, 0 to 2\n",
      "Data columns (total 3 columns):\n",
      " #   Column  Non-Null Count  Dtype \n",
      "---  ------  --------------  ----- \n",
      " 0   Name    3 non-null      object\n",
      " 1   Age     3 non-null      int64 \n",
      " 2   Salary  3 non-null      int64 \n",
      "dtypes: int64(2), object(1)\n",
      "memory usage: 204.0+ bytes\n",
      "None\n",
      "\n",
      "\n",
      "        Age   Salary\n",
      "count   3.0      3.0\n",
      "mean   30.0  60000.0\n",
      "std     5.0  10000.0\n",
      "min    25.0  50000.0\n",
      "25%    27.5  55000.0\n",
      "50%    30.0  60000.0\n",
      "75%    32.5  65000.0\n",
      "max    35.0  70000.0\n"
     ]
    }
   ],
   "source": [
    " # (rows, columns)\n",
    "print(df.shape)\n",
    "\n",
    "print(\"\\n\")\n",
    "\n",
    " # column names\n",
    "print(df.columns )\n",
    "\n",
    "print(\"\\n\")\n",
    "\n",
    "# row indexes\n",
    "print(df.index)\n",
    "\n",
    "print(\"\\n\")\n",
    "\n",
    "# data types\n",
    "print(df.dtypes)\n",
    "\n",
    "print(\"\\n\")\n",
    "\n",
    "# summary\n",
    "print(df.info())\n",
    "\n",
    "print(\"\\n\")\n",
    "\n",
    "# statistics (numerical cols only)\n",
    "print(df.describe())\n",
    "\n",
    "\n"
   ]
  },
  {
   "cell_type": "markdown",
   "id": "4b656e31",
   "metadata": {},
   "source": [
    "Selecting Columns\n",
    "\n",
    "Single Column\n",
    "df[\"Salary\"]\n",
    "Returns a Series.\n",
    "\n",
    "Multiple Columns\n",
    "df[[\"Name\", \"Salary\"]]\n",
    "Returns a DataFrame.\n"
   ]
  },
  {
   "cell_type": "markdown",
   "id": "483590e9",
   "metadata": {},
   "source": [
    "Selecting Rows\n"
   ]
  },
  {
   "cell_type": "markdown",
   "id": "ef8cbdd3",
   "metadata": {},
   "source": [
    "By Index (iloc → integer location)\n"
   ]
  },
  {
   "cell_type": "code",
   "execution_count": 37,
   "id": "1a24ca28",
   "metadata": {},
   "outputs": [
    {
     "name": "stdout",
     "output_type": "stream",
     "text": [
      "Name      Alice\n",
      "Age          25\n",
      "Salary    50000\n",
      "Name: 0, dtype: object\n",
      "\n",
      "\n",
      "    Name  Age  Salary\n",
      "0  Alice   25   50000\n",
      "1    Bob   30   60000\n"
     ]
    }
   ],
   "source": [
    "print(df.iloc[0])\n",
    "print(\"\\n\")\n",
    "print(df.iloc[0:2])"
   ]
  },
  {
   "cell_type": "markdown",
   "id": "7c436740",
   "metadata": {},
   "source": [
    "By Label (loc → label-based)\n"
   ]
  },
  {
   "cell_type": "code",
   "execution_count": 38,
   "id": "93342939",
   "metadata": {},
   "outputs": [
    {
     "name": "stdout",
     "output_type": "stream",
     "text": [
      "Alice\n",
      "\n",
      "\n",
      "    Name  Salary\n",
      "0  Alice   50000\n",
      "1    Bob   60000\n"
     ]
    }
   ],
   "source": [
    "print(df.loc[0, \"Name\"]) # First row, Name column\n",
    "\n",
    "print(\"\\n\")\n",
    "\n",
    "print(df.loc[0:1, [\"Name\", \"Salary\"]])   # First 2 rows, only Name & Salary"
   ]
  },
  {
   "cell_type": "markdown",
   "id": "ee752987",
   "metadata": {},
   "source": [
    "Conditional Filtering\n"
   ]
  },
  {
   "cell_type": "code",
   "execution_count": 39,
   "id": "5f4dcc16",
   "metadata": {},
   "outputs": [
    {
     "data": {
      "text/html": [
       "<div>\n",
       "<style scoped>\n",
       "    .dataframe tbody tr th:only-of-type {\n",
       "        vertical-align: middle;\n",
       "    }\n",
       "\n",
       "    .dataframe tbody tr th {\n",
       "        vertical-align: top;\n",
       "    }\n",
       "\n",
       "    .dataframe thead th {\n",
       "        text-align: right;\n",
       "    }\n",
       "</style>\n",
       "<table border=\"1\" class=\"dataframe\">\n",
       "  <thead>\n",
       "    <tr style=\"text-align: right;\">\n",
       "      <th></th>\n",
       "      <th>Name</th>\n",
       "      <th>Age</th>\n",
       "      <th>Salary</th>\n",
       "    </tr>\n",
       "  </thead>\n",
       "  <tbody>\n",
       "    <tr>\n",
       "      <th>1</th>\n",
       "      <td>Bob</td>\n",
       "      <td>30</td>\n",
       "      <td>60000</td>\n",
       "    </tr>\n",
       "    <tr>\n",
       "      <th>2</th>\n",
       "      <td>Charlie</td>\n",
       "      <td>35</td>\n",
       "      <td>70000</td>\n",
       "    </tr>\n",
       "  </tbody>\n",
       "</table>\n",
       "</div>"
      ],
      "text/plain": [
       "      Name  Age  Salary\n",
       "1      Bob   30   60000\n",
       "2  Charlie   35   70000"
      ]
     },
     "execution_count": 39,
     "metadata": {},
     "output_type": "execute_result"
    }
   ],
   "source": [
    "df[df[\"Salary\"] > 55000]"
   ]
  },
  {
   "cell_type": "code",
   "execution_count": 40,
   "id": "f6d062d1",
   "metadata": {},
   "outputs": [
    {
     "name": "stdout",
     "output_type": "stream",
     "text": [
      "  Name  Age  Salary\n",
      "1  Bob   30   60000\n"
     ]
    }
   ],
   "source": [
    "print(df[(df[\"Salary\"] > 55000) & (df[\"Age\"] < 35)])"
   ]
  },
  {
   "cell_type": "markdown",
   "id": "61fecabc",
   "metadata": {},
   "source": [
    "Adding New Columns\n"
   ]
  },
  {
   "cell_type": "code",
   "execution_count": 41,
   "id": "abed6d97",
   "metadata": {},
   "outputs": [
    {
     "name": "stdout",
     "output_type": "stream",
     "text": [
      "      Name  Age  Salary  Yearly_Salary\n",
      "0    Alice   25   50000         600000\n",
      "1      Bob   30   60000         720000\n",
      "2  Charlie   35   70000         840000\n"
     ]
    }
   ],
   "source": [
    "df[\"Yearly_Salary\"] = df[\"Salary\"] * 12\n",
    "\n",
    "print(df)"
   ]
  },
  {
   "cell_type": "markdown",
   "id": "8a2457c3",
   "metadata": {},
   "source": [
    "Updating Values\n"
   ]
  },
  {
   "cell_type": "code",
   "execution_count": 42,
   "id": "d2f8f300",
   "metadata": {},
   "outputs": [
    {
     "name": "stdout",
     "output_type": "stream",
     "text": [
      "      Name  Age  Salary  Yearly_Salary\n",
      "0    Alice   25   50000         600000\n",
      "1      Bob   30   65000         720000\n",
      "2  Charlie   35   70000         840000\n"
     ]
    }
   ],
   "source": [
    "df.loc[1, \"Salary\"] = 65000\n",
    "\n",
    "print(df)"
   ]
  },
  {
   "cell_type": "markdown",
   "id": "da2f1f0a",
   "metadata": {},
   "source": [
    "Deleting Columns / Rows\n",
    "\n",
    "inplace = True means to save changes in table\n",
    "\n",
    "inplace = False means changes cannot be saved in the tabel\n"
   ]
  },
  {
   "cell_type": "markdown",
   "id": "14157caf",
   "metadata": {},
   "source": [
    "axis = 1 , means it is selecting the Whole column\n",
    "axis = 0 , means it is selection the Whole rows\n"
   ]
  },
  {
   "cell_type": "code",
   "execution_count": 43,
   "id": "af94d8b8",
   "metadata": {},
   "outputs": [
    {
     "name": "stdout",
     "output_type": "stream",
     "text": [
      "    Name  Salary  Yearly_Salary\n",
      "0  Alice   50000         600000\n",
      "1    Bob   65000         720000\n"
     ]
    }
   ],
   "source": [
    "df.drop(\"Age\", axis=1, inplace=True)   # Drop column\n",
    "df.drop(2, axis=0, inplace=True)       # Drop row with index 2\n",
    "\n",
    "print(df)"
   ]
  },
  {
   "cell_type": "markdown",
   "id": "60ca93c5",
   "metadata": {},
   "source": [
    "Mini Exercise\n",
    "\n",
    "Select only the Name and Department columns.\n",
    "\n",
    "Get all rows where Salary > 60,000.\n",
    "\n",
    "Add a new column Bonus = 10% of Salary.\n",
    "\n",
    "Update Bob’s Salary to 62000.\n",
    "\n",
    "Delete the Age column.\n"
   ]
  },
  {
   "cell_type": "code",
   "execution_count": 44,
   "id": "492d6d42",
   "metadata": {},
   "outputs": [
    {
     "name": "stdout",
     "output_type": "stream",
     "text": [
      "      Name  Age  Salary Department\n",
      "0    Alice   25   50000         HR\n",
      "1      Bob   30   60000         IT\n",
      "2  Charlie   35   70000    Finance\n",
      "3    David   28   65000         IT\n"
     ]
    }
   ],
   "source": [
    "data = {\n",
    "    \"Name\": [\"Alice\", \"Bob\", \"Charlie\", \"David\"],\n",
    "    \"Age\": [25, 30, 35, 28],\n",
    "    \"Salary\": [50000, 60000, 70000, 65000],\n",
    "    \"Department\": [\"HR\", \"IT\", \"Finance\", \"IT\"]\n",
    "}\n",
    "df = pd.DataFrame(data)\n",
    "\n",
    "print(df)"
   ]
  },
  {
   "cell_type": "code",
   "execution_count": 45,
   "id": "5dd3337c",
   "metadata": {},
   "outputs": [
    {
     "name": "stdout",
     "output_type": "stream",
     "text": [
      "      Name Department\n",
      "0    Alice         HR\n",
      "1      Bob         IT\n",
      "2  Charlie    Finance\n",
      "3    David         IT\n"
     ]
    }
   ],
   "source": [
    "print(df[[\"Name\",\"Department\"]])"
   ]
  },
  {
   "cell_type": "code",
   "execution_count": 46,
   "id": "36f2be59",
   "metadata": {},
   "outputs": [
    {
     "name": "stdout",
     "output_type": "stream",
     "text": [
      "      Name Department\n",
      "2  Charlie    Finance\n",
      "3    David         IT\n"
     ]
    }
   ],
   "source": [
    "df2 = df.loc[df['Salary'] > 60000 , [\"Name\",\"Department\"]]\n",
    "print(df2)"
   ]
  },
  {
   "cell_type": "code",
   "execution_count": 47,
   "id": "ca8a59f6",
   "metadata": {},
   "outputs": [
    {
     "name": "stdout",
     "output_type": "stream",
     "text": [
      "      Name Department   Bonus\n",
      "2  Charlie    Finance  7000.0\n",
      "3    David         IT  6500.0\n"
     ]
    }
   ],
   "source": [
    "df2[\"Bonus\"] = (df[\"Salary\"]/100)*10\n",
    "\n",
    "print(df2)"
   ]
  },
  {
   "cell_type": "code",
   "execution_count": 48,
   "id": "1593ead0",
   "metadata": {},
   "outputs": [],
   "source": [
    "df.loc[df[\"Name\"] ==\"Bob\" ,\"Salary\"] =62000"
   ]
  },
  {
   "cell_type": "code",
   "execution_count": 49,
   "id": "9db209d3",
   "metadata": {},
   "outputs": [
    {
     "name": "stdout",
     "output_type": "stream",
     "text": [
      "      Name  Age  Salary Department\n",
      "0    Alice   25   50000         HR\n",
      "1      Bob   30   62000         IT\n",
      "2  Charlie   35   70000    Finance\n",
      "3    David   28   65000         IT\n"
     ]
    }
   ],
   "source": [
    "print(df)"
   ]
  },
  {
   "cell_type": "code",
   "execution_count": 51,
   "id": "a173892d",
   "metadata": {},
   "outputs": [
    {
     "data": {
      "text/html": [
       "<div>\n",
       "<style scoped>\n",
       "    .dataframe tbody tr th:only-of-type {\n",
       "        vertical-align: middle;\n",
       "    }\n",
       "\n",
       "    .dataframe tbody tr th {\n",
       "        vertical-align: top;\n",
       "    }\n",
       "\n",
       "    .dataframe thead th {\n",
       "        text-align: right;\n",
       "    }\n",
       "</style>\n",
       "<table border=\"1\" class=\"dataframe\">\n",
       "  <thead>\n",
       "    <tr style=\"text-align: right;\">\n",
       "      <th></th>\n",
       "      <th>Name</th>\n",
       "      <th>Salary</th>\n",
       "      <th>Department</th>\n",
       "    </tr>\n",
       "  </thead>\n",
       "  <tbody>\n",
       "    <tr>\n",
       "      <th>0</th>\n",
       "      <td>Alice</td>\n",
       "      <td>50000</td>\n",
       "      <td>HR</td>\n",
       "    </tr>\n",
       "    <tr>\n",
       "      <th>1</th>\n",
       "      <td>Bob</td>\n",
       "      <td>62000</td>\n",
       "      <td>IT</td>\n",
       "    </tr>\n",
       "    <tr>\n",
       "      <th>2</th>\n",
       "      <td>Charlie</td>\n",
       "      <td>70000</td>\n",
       "      <td>Finance</td>\n",
       "    </tr>\n",
       "    <tr>\n",
       "      <th>3</th>\n",
       "      <td>David</td>\n",
       "      <td>65000</td>\n",
       "      <td>IT</td>\n",
       "    </tr>\n",
       "  </tbody>\n",
       "</table>\n",
       "</div>"
      ],
      "text/plain": [
       "      Name  Salary Department\n",
       "0    Alice   50000         HR\n",
       "1      Bob   62000         IT\n",
       "2  Charlie   70000    Finance\n",
       "3    David   65000         IT"
      ]
     },
     "execution_count": 51,
     "metadata": {},
     "output_type": "execute_result"
    }
   ],
   "source": [
    "df.drop(columns = [\"Age\"])"
   ]
  },
  {
   "cell_type": "markdown",
   "id": "fc83f628",
   "metadata": {},
   "source": [
    "Aggregation & Grouping in Pandas\n"
   ]
  },
  {
   "cell_type": "markdown",
   "id": "f4ef9422",
   "metadata": {},
   "source": [
    "Aggregation\n",
    "\n",
    "Aggregation means applying a function (like sum, mean, count, etc.) over rows or columns.\n"
   ]
  },
  {
   "cell_type": "code",
   "execution_count": 54,
   "id": "a0905ebf",
   "metadata": {},
   "outputs": [
    {
     "name": "stdout",
     "output_type": "stream",
     "text": [
      "247000\n",
      "61750.0\n",
      "50000\n",
      "70000\n"
     ]
    }
   ],
   "source": [
    "#sum of salary\n",
    "total_salary = df[\"Salary\"].sum()\n",
    "print(total_salary)\n",
    "\n",
    "#average Salary\n",
    "avg_salary = df[\"Salary\"].mean()\n",
    "print(avg_salary)\n",
    "\n",
    "# Minimum and maximum salary\n",
    "min_salary = df[\"Salary\"].min()\n",
    "print(min_salary)\n",
    "max_salary = df[\"Salary\"].max()\n",
    "print(max_salary)\n"
   ]
  },
  {
   "cell_type": "markdown",
   "id": "0f1f3ebc",
   "metadata": {},
   "source": [
    "GroupBy\n",
    "\n",
    "groupby helps you split the data into groups and then apply aggregation functions.\n"
   ]
  },
  {
   "cell_type": "code",
   "execution_count": 55,
   "id": "541fc10c",
   "metadata": {},
   "outputs": [],
   "source": [
    "data = {\n",
    "    \"Name\": [\"Alice\", \"Bob\", \"Charlie\", \"David\", \"Eve\", \"Frank\"],\n",
    "    \"Department\": [\"HR\", \"IT\", \"HR\", \"Finance\", \"Finance\", \"IT\"],\n",
    "    \"Salary\": [50000, 60000, 55000, 65000, 70000, 62000]\n",
    "}\n",
    "df = pd.DataFrame(data)"
   ]
  },
  {
   "cell_type": "code",
   "execution_count": 58,
   "id": "a4436d98",
   "metadata": {},
   "outputs": [
    {
     "name": "stdout",
     "output_type": "stream",
     "text": [
      "Department\n",
      "Finance    67500.0\n",
      "HR         52500.0\n",
      "IT         61000.0\n",
      "Name: Salary, dtype: float64\n",
      "\n",
      "\n",
      "Department\n",
      "Finance    135000\n",
      "HR         105000\n",
      "IT         122000\n",
      "Name: Salary, dtype: int64\n"
     ]
    },
    {
     "data": {
      "text/html": [
       "<div>\n",
       "<style scoped>\n",
       "    .dataframe tbody tr th:only-of-type {\n",
       "        vertical-align: middle;\n",
       "    }\n",
       "\n",
       "    .dataframe tbody tr th {\n",
       "        vertical-align: top;\n",
       "    }\n",
       "\n",
       "    .dataframe thead th {\n",
       "        text-align: right;\n",
       "    }\n",
       "</style>\n",
       "<table border=\"1\" class=\"dataframe\">\n",
       "  <thead>\n",
       "    <tr style=\"text-align: right;\">\n",
       "      <th></th>\n",
       "      <th>mean</th>\n",
       "      <th>sum</th>\n",
       "      <th>min</th>\n",
       "      <th>max</th>\n",
       "    </tr>\n",
       "    <tr>\n",
       "      <th>Department</th>\n",
       "      <th></th>\n",
       "      <th></th>\n",
       "      <th></th>\n",
       "      <th></th>\n",
       "    </tr>\n",
       "  </thead>\n",
       "  <tbody>\n",
       "    <tr>\n",
       "      <th>Finance</th>\n",
       "      <td>67500.0</td>\n",
       "      <td>135000</td>\n",
       "      <td>65000</td>\n",
       "      <td>70000</td>\n",
       "    </tr>\n",
       "    <tr>\n",
       "      <th>HR</th>\n",
       "      <td>52500.0</td>\n",
       "      <td>105000</td>\n",
       "      <td>50000</td>\n",
       "      <td>55000</td>\n",
       "    </tr>\n",
       "    <tr>\n",
       "      <th>IT</th>\n",
       "      <td>61000.0</td>\n",
       "      <td>122000</td>\n",
       "      <td>60000</td>\n",
       "      <td>62000</td>\n",
       "    </tr>\n",
       "  </tbody>\n",
       "</table>\n",
       "</div>"
      ],
      "text/plain": [
       "               mean     sum    min    max\n",
       "Department                               \n",
       "Finance     67500.0  135000  65000  70000\n",
       "HR          52500.0  105000  50000  55000\n",
       "IT          61000.0  122000  60000  62000"
      ]
     },
     "execution_count": 58,
     "metadata": {},
     "output_type": "execute_result"
    }
   ],
   "source": [
    "# Average salary per department\n",
    "print(df.groupby(\"Department\")[\"Salary\"].mean())\n",
    "\n",
    "\n",
    "print(\"\\n\")\n",
    "\n",
    "# Total salary per department\n",
    "print(df.groupby(\"Department\")[\"Salary\"].sum())\n",
    "\n",
    "# Multiple aggregations\n",
    "df.groupby(\"Department\")[\"Salary\"].agg([\"mean\", \"sum\", \"min\", \"max\"])\n"
   ]
  },
  {
   "cell_type": "markdown",
   "id": "89fb729c",
   "metadata": {},
   "source": [
    "Group by Multiple Columns\n"
   ]
  },
  {
   "cell_type": "code",
   "execution_count": 59,
   "id": "ada800ea",
   "metadata": {},
   "outputs": [
    {
     "data": {
      "text/plain": [
       "Department  Name   \n",
       "Finance     David      65000\n",
       "            Eve        70000\n",
       "HR          Alice      50000\n",
       "            Charlie    55000\n",
       "IT          Bob        60000\n",
       "            Frank      62000\n",
       "Name: Salary, dtype: int64"
      ]
     },
     "execution_count": 59,
     "metadata": {},
     "output_type": "execute_result"
    }
   ],
   "source": [
    "df.groupby([\"Department\", \"Name\"])[\"Salary\"].sum()"
   ]
  },
  {
   "cell_type": "markdown",
   "id": "c9b70ab3",
   "metadata": {},
   "source": [
    "Resetting Index\n",
    "\n",
    "After groupby, you may want to bring the grouped column back as a normal column:\n"
   ]
  },
  {
   "cell_type": "code",
   "execution_count": 60,
   "id": "3a9889cb",
   "metadata": {},
   "outputs": [
    {
     "data": {
      "text/html": [
       "<div>\n",
       "<style scoped>\n",
       "    .dataframe tbody tr th:only-of-type {\n",
       "        vertical-align: middle;\n",
       "    }\n",
       "\n",
       "    .dataframe tbody tr th {\n",
       "        vertical-align: top;\n",
       "    }\n",
       "\n",
       "    .dataframe thead th {\n",
       "        text-align: right;\n",
       "    }\n",
       "</style>\n",
       "<table border=\"1\" class=\"dataframe\">\n",
       "  <thead>\n",
       "    <tr style=\"text-align: right;\">\n",
       "      <th></th>\n",
       "      <th>Department</th>\n",
       "      <th>Salary</th>\n",
       "    </tr>\n",
       "  </thead>\n",
       "  <tbody>\n",
       "    <tr>\n",
       "      <th>0</th>\n",
       "      <td>Finance</td>\n",
       "      <td>67500.0</td>\n",
       "    </tr>\n",
       "    <tr>\n",
       "      <th>1</th>\n",
       "      <td>HR</td>\n",
       "      <td>52500.0</td>\n",
       "    </tr>\n",
       "    <tr>\n",
       "      <th>2</th>\n",
       "      <td>IT</td>\n",
       "      <td>61000.0</td>\n",
       "    </tr>\n",
       "  </tbody>\n",
       "</table>\n",
       "</div>"
      ],
      "text/plain": [
       "  Department   Salary\n",
       "0    Finance  67500.0\n",
       "1         HR  52500.0\n",
       "2         IT  61000.0"
      ]
     },
     "execution_count": 60,
     "metadata": {},
     "output_type": "execute_result"
    }
   ],
   "source": [
    "df.groupby(\"Department\")[\"Salary\"].mean().reset_index()"
   ]
  },
  {
   "cell_type": "markdown",
   "id": "8e727203",
   "metadata": {},
   "source": [
    "With groupby + agg, you can answer real-world questions like:\n",
    "\n",
    "Which department has the highest total salary?\n",
    "\n",
    "What’s the average salary per department?\n",
    "\n",
    "How many employees are in each department?\n"
   ]
  },
  {
   "cell_type": "markdown",
   "id": "daa71224",
   "metadata": {},
   "source": [
    "Concatenation\n",
    "\n",
    "Used to stack DataFrames (either rows or columns).\n"
   ]
  },
  {
   "cell_type": "code",
   "execution_count": 62,
   "id": "f7496669",
   "metadata": {},
   "outputs": [
    {
     "data": {
      "text/html": [
       "<div>\n",
       "<style scoped>\n",
       "    .dataframe tbody tr th:only-of-type {\n",
       "        vertical-align: middle;\n",
       "    }\n",
       "\n",
       "    .dataframe tbody tr th {\n",
       "        vertical-align: top;\n",
       "    }\n",
       "\n",
       "    .dataframe thead th {\n",
       "        text-align: right;\n",
       "    }\n",
       "</style>\n",
       "<table border=\"1\" class=\"dataframe\">\n",
       "  <thead>\n",
       "    <tr style=\"text-align: right;\">\n",
       "      <th></th>\n",
       "      <th>Name</th>\n",
       "      <th>Salary</th>\n",
       "    </tr>\n",
       "  </thead>\n",
       "  <tbody>\n",
       "    <tr>\n",
       "      <th>0</th>\n",
       "      <td>Alice</td>\n",
       "      <td>50000</td>\n",
       "    </tr>\n",
       "    <tr>\n",
       "      <th>1</th>\n",
       "      <td>Bob</td>\n",
       "      <td>60000</td>\n",
       "    </tr>\n",
       "    <tr>\n",
       "      <th>0</th>\n",
       "      <td>Charlie</td>\n",
       "      <td>55000</td>\n",
       "    </tr>\n",
       "    <tr>\n",
       "      <th>1</th>\n",
       "      <td>David</td>\n",
       "      <td>65000</td>\n",
       "    </tr>\n",
       "  </tbody>\n",
       "</table>\n",
       "</div>"
      ],
      "text/plain": [
       "      Name  Salary\n",
       "0    Alice   50000\n",
       "1      Bob   60000\n",
       "0  Charlie   55000\n",
       "1    David   65000"
      ]
     },
     "metadata": {},
     "output_type": "display_data"
    },
    {
     "data": {
      "text/html": [
       "<div>\n",
       "<style scoped>\n",
       "    .dataframe tbody tr th:only-of-type {\n",
       "        vertical-align: middle;\n",
       "    }\n",
       "\n",
       "    .dataframe tbody tr th {\n",
       "        vertical-align: top;\n",
       "    }\n",
       "\n",
       "    .dataframe thead th {\n",
       "        text-align: right;\n",
       "    }\n",
       "</style>\n",
       "<table border=\"1\" class=\"dataframe\">\n",
       "  <thead>\n",
       "    <tr style=\"text-align: right;\">\n",
       "      <th></th>\n",
       "      <th>Name</th>\n",
       "      <th>Salary</th>\n",
       "      <th>Name</th>\n",
       "      <th>Salary</th>\n",
       "    </tr>\n",
       "  </thead>\n",
       "  <tbody>\n",
       "    <tr>\n",
       "      <th>0</th>\n",
       "      <td>Alice</td>\n",
       "      <td>50000</td>\n",
       "      <td>Charlie</td>\n",
       "      <td>55000</td>\n",
       "    </tr>\n",
       "    <tr>\n",
       "      <th>1</th>\n",
       "      <td>Bob</td>\n",
       "      <td>60000</td>\n",
       "      <td>David</td>\n",
       "      <td>65000</td>\n",
       "    </tr>\n",
       "  </tbody>\n",
       "</table>\n",
       "</div>"
      ],
      "text/plain": [
       "    Name  Salary     Name  Salary\n",
       "0  Alice   50000  Charlie   55000\n",
       "1    Bob   60000    David   65000"
      ]
     },
     "metadata": {},
     "output_type": "display_data"
    }
   ],
   "source": [
    "df1 = pd.DataFrame({\n",
    "    \"Name\": [\"Alice\", \"Bob\"],\n",
    "    \"Salary\": [50000, 60000]\n",
    "})\n",
    "\n",
    "df2 = pd.DataFrame({\n",
    "    \"Name\": [\"Charlie\", \"David\"],\n",
    "    \"Salary\": [55000, 65000]\n",
    "})\n",
    "\n",
    "# Stack rows\n",
    "display(pd.concat([df1, df2]))\n",
    "\n",
    "# Stack columns (side by side)\n",
    "display(pd.concat([df1, df2], axis=1))"
   ]
  },
  {
   "cell_type": "markdown",
   "id": "41668a23",
   "metadata": {},
   "source": [
    "Merge (like SQL JOIN)\n",
    "\n",
    "merge works like SQL joins (inner, outer, left, right)\n"
   ]
  },
  {
   "cell_type": "code",
   "execution_count": 64,
   "id": "b87764bc",
   "metadata": {},
   "outputs": [
    {
     "data": {
      "text/html": [
       "<div>\n",
       "<style scoped>\n",
       "    .dataframe tbody tr th:only-of-type {\n",
       "        vertical-align: middle;\n",
       "    }\n",
       "\n",
       "    .dataframe tbody tr th {\n",
       "        vertical-align: top;\n",
       "    }\n",
       "\n",
       "    .dataframe thead th {\n",
       "        text-align: right;\n",
       "    }\n",
       "</style>\n",
       "<table border=\"1\" class=\"dataframe\">\n",
       "  <thead>\n",
       "    <tr style=\"text-align: right;\">\n",
       "      <th></th>\n",
       "      <th>EmpID</th>\n",
       "      <th>Name</th>\n",
       "      <th>Salary</th>\n",
       "    </tr>\n",
       "  </thead>\n",
       "  <tbody>\n",
       "    <tr>\n",
       "      <th>0</th>\n",
       "      <td>1</td>\n",
       "      <td>Alice</td>\n",
       "      <td>50000</td>\n",
       "    </tr>\n",
       "    <tr>\n",
       "      <th>1</th>\n",
       "      <td>2</td>\n",
       "      <td>Bob</td>\n",
       "      <td>60000</td>\n",
       "    </tr>\n",
       "  </tbody>\n",
       "</table>\n",
       "</div>"
      ],
      "text/plain": [
       "   EmpID   Name  Salary\n",
       "0      1  Alice   50000\n",
       "1      2    Bob   60000"
      ]
     },
     "metadata": {},
     "output_type": "display_data"
    },
    {
     "data": {
      "text/html": [
       "<div>\n",
       "<style scoped>\n",
       "    .dataframe tbody tr th:only-of-type {\n",
       "        vertical-align: middle;\n",
       "    }\n",
       "\n",
       "    .dataframe tbody tr th {\n",
       "        vertical-align: top;\n",
       "    }\n",
       "\n",
       "    .dataframe thead th {\n",
       "        text-align: right;\n",
       "    }\n",
       "</style>\n",
       "<table border=\"1\" class=\"dataframe\">\n",
       "  <thead>\n",
       "    <tr style=\"text-align: right;\">\n",
       "      <th></th>\n",
       "      <th>EmpID</th>\n",
       "      <th>Name</th>\n",
       "      <th>Salary</th>\n",
       "    </tr>\n",
       "  </thead>\n",
       "  <tbody>\n",
       "    <tr>\n",
       "      <th>0</th>\n",
       "      <td>1</td>\n",
       "      <td>Alice</td>\n",
       "      <td>50000.0</td>\n",
       "    </tr>\n",
       "    <tr>\n",
       "      <th>1</th>\n",
       "      <td>2</td>\n",
       "      <td>Bob</td>\n",
       "      <td>60000.0</td>\n",
       "    </tr>\n",
       "    <tr>\n",
       "      <th>2</th>\n",
       "      <td>3</td>\n",
       "      <td>Charlie</td>\n",
       "      <td>NaN</td>\n",
       "    </tr>\n",
       "  </tbody>\n",
       "</table>\n",
       "</div>"
      ],
      "text/plain": [
       "   EmpID     Name   Salary\n",
       "0      1    Alice  50000.0\n",
       "1      2      Bob  60000.0\n",
       "2      3  Charlie      NaN"
      ]
     },
     "metadata": {},
     "output_type": "display_data"
    },
    {
     "data": {
      "text/html": [
       "<div>\n",
       "<style scoped>\n",
       "    .dataframe tbody tr th:only-of-type {\n",
       "        vertical-align: middle;\n",
       "    }\n",
       "\n",
       "    .dataframe tbody tr th {\n",
       "        vertical-align: top;\n",
       "    }\n",
       "\n",
       "    .dataframe thead th {\n",
       "        text-align: right;\n",
       "    }\n",
       "</style>\n",
       "<table border=\"1\" class=\"dataframe\">\n",
       "  <thead>\n",
       "    <tr style=\"text-align: right;\">\n",
       "      <th></th>\n",
       "      <th>EmpID</th>\n",
       "      <th>Name</th>\n",
       "      <th>Salary</th>\n",
       "    </tr>\n",
       "  </thead>\n",
       "  <tbody>\n",
       "    <tr>\n",
       "      <th>0</th>\n",
       "      <td>1</td>\n",
       "      <td>Alice</td>\n",
       "      <td>50000.0</td>\n",
       "    </tr>\n",
       "    <tr>\n",
       "      <th>1</th>\n",
       "      <td>2</td>\n",
       "      <td>Bob</td>\n",
       "      <td>60000.0</td>\n",
       "    </tr>\n",
       "    <tr>\n",
       "      <th>2</th>\n",
       "      <td>3</td>\n",
       "      <td>Charlie</td>\n",
       "      <td>NaN</td>\n",
       "    </tr>\n",
       "    <tr>\n",
       "      <th>3</th>\n",
       "      <td>4</td>\n",
       "      <td>NaN</td>\n",
       "      <td>70000.0</td>\n",
       "    </tr>\n",
       "  </tbody>\n",
       "</table>\n",
       "</div>"
      ],
      "text/plain": [
       "   EmpID     Name   Salary\n",
       "0      1    Alice  50000.0\n",
       "1      2      Bob  60000.0\n",
       "2      3  Charlie      NaN\n",
       "3      4      NaN  70000.0"
      ]
     },
     "metadata": {},
     "output_type": "display_data"
    }
   ],
   "source": [
    "employees = pd.DataFrame({\n",
    "    \"EmpID\": [1, 2, 3],\n",
    "    \"Name\": [\"Alice\", \"Bob\", \"Charlie\"]\n",
    "})\n",
    "\n",
    "salaries = pd.DataFrame({\n",
    "    \"EmpID\": [1, 2, 4],\n",
    "    \"Salary\": [50000, 60000, 70000]\n",
    "})\n",
    "\n",
    "# Inner join (only common EmpID)\n",
    "display(pd.merge(employees, salaries, on=\"EmpID\", how=\"inner\"))\n",
    "# Left join (all employees, even if salary missing)\n",
    "display(pd.merge(employees, salaries, on=\"EmpID\", how=\"left\"))\n",
    "\n",
    "# Outer join (all records, fill NaN if missing)\n",
    "display(pd.merge(employees, salaries, on=\"EmpID\", how=\"outer\"))\n"
   ]
  },
  {
   "cell_type": "markdown",
   "id": "fb48e025",
   "metadata": {},
   "source": [
    "Join (shortcut for merging on index)\n"
   ]
  },
  {
   "cell_type": "code",
   "execution_count": 65,
   "id": "caed49c3",
   "metadata": {},
   "outputs": [
    {
     "data": {
      "text/html": [
       "<div>\n",
       "<style scoped>\n",
       "    .dataframe tbody tr th:only-of-type {\n",
       "        vertical-align: middle;\n",
       "    }\n",
       "\n",
       "    .dataframe tbody tr th {\n",
       "        vertical-align: top;\n",
       "    }\n",
       "\n",
       "    .dataframe thead th {\n",
       "        text-align: right;\n",
       "    }\n",
       "</style>\n",
       "<table border=\"1\" class=\"dataframe\">\n",
       "  <thead>\n",
       "    <tr style=\"text-align: right;\">\n",
       "      <th></th>\n",
       "      <th>Salary</th>\n",
       "      <th>Department</th>\n",
       "    </tr>\n",
       "  </thead>\n",
       "  <tbody>\n",
       "    <tr>\n",
       "      <th>Alice</th>\n",
       "      <td>50000</td>\n",
       "      <td>HR</td>\n",
       "    </tr>\n",
       "    <tr>\n",
       "      <th>Bob</th>\n",
       "      <td>60000</td>\n",
       "      <td>IT</td>\n",
       "    </tr>\n",
       "  </tbody>\n",
       "</table>\n",
       "</div>"
      ],
      "text/plain": [
       "       Salary Department\n",
       "Alice   50000         HR\n",
       "Bob     60000         IT"
      ]
     },
     "execution_count": 65,
     "metadata": {},
     "output_type": "execute_result"
    }
   ],
   "source": [
    "df1 = pd.DataFrame({\"Salary\": [50000, 60000]}, index=[\"Alice\", \"Bob\"])\n",
    "df2 = pd.DataFrame({\"Department\": [\"HR\", \"IT\"]}, index=[\"Alice\", \"Bob\"])\n",
    "\n",
    "df1.join(df2)\n"
   ]
  },
  {
   "cell_type": "code",
   "execution_count": null,
   "id": "23c4addd",
   "metadata": {},
   "outputs": [],
   "source": []
  }
 ],
 "metadata": {
  "kernelspec": {
   "display_name": "Python 3",
   "language": "python",
   "name": "python3"
  },
  "language_info": {
   "codemirror_mode": {
    "name": "ipython",
    "version": 3
   },
   "file_extension": ".py",
   "mimetype": "text/x-python",
   "name": "python",
   "nbconvert_exporter": "python",
   "pygments_lexer": "ipython3",
   "version": "3.13.5"
  }
 },
 "nbformat": 4,
 "nbformat_minor": 5
}
