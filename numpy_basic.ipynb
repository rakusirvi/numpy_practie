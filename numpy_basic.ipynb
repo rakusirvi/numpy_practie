{
 "cells": [
  {
   "cell_type": "code",
   "execution_count": 1,
   "id": "9ef49d26",
   "metadata": {},
   "outputs": [
    {
     "name": "stdout",
     "output_type": "stream",
     "text": [
      "numpy imported successfully \n"
     ]
    }
   ],
   "source": [
    "import numpy as np\n",
    "print(\"numpy imported successfully \")"
   ]
  },
  {
   "cell_type": "markdown",
   "id": "ab6fd3ac",
   "metadata": {},
   "source": [
    "Creating Numpy array\n"
   ]
  },
  {
   "cell_type": "code",
   "execution_count": 2,
   "id": "4244b245",
   "metadata": {},
   "outputs": [
    {
     "name": "stdout",
     "output_type": "stream",
     "text": [
      "Array : [1 2 3 4 5 6]\n",
      "Type : <class 'numpy.ndarray'>\n"
     ]
    }
   ],
   "source": [
    "arr = np.array([1,2,3,4,5,6])\n",
    "print(\"Array :\",arr)\n",
    "print(\"Type :\",type(arr))"
   ]
  },
  {
   "cell_type": "code",
   "execution_count": 4,
   "id": "1a5ba87d",
   "metadata": {},
   "outputs": [
    {
     "name": "stdout",
     "output_type": "stream",
     "text": [
      "This is 2D array :\n",
      "\n",
      "[[1 2 3]\n",
      " [4 5 6]]\n"
     ]
    }
   ],
   "source": [
    "arr2 = np.array([[1,2,3],[4,5,6]])\n",
    "print(\"This is 2D array :\\n\")\n",
    "print(arr2)"
   ]
  },
  {
   "cell_type": "markdown",
   "id": "966091b5",
   "metadata": {},
   "source": [
    "Array attributes\n"
   ]
  },
  {
   "cell_type": "code",
   "execution_count": 5,
   "id": "b61ccfe4",
   "metadata": {},
   "outputs": [
    {
     "name": "stdout",
     "output_type": "stream",
     "text": [
      "Shape : (2, 3)\n"
     ]
    }
   ],
   "source": [
    "print('Shape :',arr2.shape)"
   ]
  },
  {
   "cell_type": "code",
   "execution_count": 6,
   "id": "e31b449b",
   "metadata": {},
   "outputs": [
    {
     "name": "stdout",
     "output_type": "stream",
     "text": [
      "Size : 6\n"
     ]
    }
   ],
   "source": [
    "print('Size :',arr2.size)"
   ]
  },
  {
   "cell_type": "code",
   "execution_count": 7,
   "id": "6f766977",
   "metadata": {},
   "outputs": [
    {
     "name": "stdout",
     "output_type": "stream",
     "text": [
      "Data Type : int64\n"
     ]
    }
   ],
   "source": [
    "print('Data Type :',arr2.dtype)"
   ]
  },
  {
   "cell_type": "markdown",
   "id": "0c07f6b0",
   "metadata": {},
   "source": [
    "Arrays of Zeros\n"
   ]
  },
  {
   "cell_type": "code",
   "execution_count": 9,
   "id": "f3819f2d",
   "metadata": {},
   "outputs": [
    {
     "name": "stdout",
     "output_type": "stream",
     "text": [
      "Zeros :\n",
      " [[0. 0. 0.]\n",
      " [0. 0. 0.]]\n"
     ]
    }
   ],
   "source": [
    "zeros = np.zeros((2,3))\n",
    "print(\"Zeros :\\n\",zeros)"
   ]
  },
  {
   "cell_type": "markdown",
   "id": "8e201ec3",
   "metadata": {},
   "source": [
    "Array of Once\n"
   ]
  },
  {
   "cell_type": "code",
   "execution_count": 13,
   "id": "a5caa6c3",
   "metadata": {},
   "outputs": [
    {
     "name": "stdout",
     "output_type": "stream",
     "text": [
      "[[1. 1.]\n",
      " [1. 1.]\n",
      " [1. 1.]]\n"
     ]
    }
   ],
   "source": [
    "ones = np.ones((3,2))\n",
    "print(ones)"
   ]
  },
  {
   "cell_type": "code",
   "execution_count": 83,
   "id": "6d21e0ce",
   "metadata": {},
   "outputs": [
    {
     "name": "stdout",
     "output_type": "stream",
     "text": [
      "Full:\n",
      " [[7 7]\n",
      " [7 7]]\n",
      "Identity:\n",
      " [[1. 0. 0.]\n",
      " [0. 1. 0.]\n",
      " [0. 0. 1.]]\n",
      "Linspace: [0.   0.25 0.5  0.75 1.  ]\n"
     ]
    }
   ],
   "source": [
    "import numpy as np\n",
    "\n",
    "# 1D array\n",
    "arr1 = np.array([1,2,3,4,5])\n",
    "\n",
    "# 2D array\n",
    "arr2 = np.array([[1,2,3],[4,5,6]])\n",
    "\n",
    "# Full (all same number)\n",
    "full = np.full((2,2), 7)\n",
    "print(\"Full:\\n\", full)\n",
    "\n",
    "# Identity matrix\n",
    "eye = np.eye(3)\n",
    "print(\"Identity:\\n\", eye)\n",
    "\n",
    "# Linearly spaced\n",
    "arr_lin = np.linspace(0, 1, 5)  # 5 numbers between 0 and 1\n",
    "print(\"Linspace:\", arr_lin)\n"
   ]
  },
  {
   "cell_type": "markdown",
   "id": "c2e3dc4a",
   "metadata": {},
   "source": [
    "Array with a range\n"
   ]
  },
  {
   "cell_type": "code",
   "execution_count": 15,
   "id": "793632f3",
   "metadata": {},
   "outputs": [
    {
     "name": "stdout",
     "output_type": "stream",
     "text": [
      "[0 2 4 6 8]\n"
     ]
    }
   ],
   "source": [
    "range_arr = np.arange(0,10,2) #start ,stop ,step\n",
    "print(range_arr)"
   ]
  },
  {
   "cell_type": "markdown",
   "id": "6483f30a",
   "metadata": {},
   "source": [
    "Random Number\n"
   ]
  },
  {
   "cell_type": "code",
   "execution_count": 94,
   "id": "9689d687",
   "metadata": {},
   "outputs": [
    {
     "name": "stdout",
     "output_type": "stream",
     "text": [
      "Random float array:\n",
      " [[0.32870626 0.1991003  0.7971593 ]\n",
      " [0.42278791 0.96251482 0.09967989]]\n",
      "Random integer array:\n",
      " [[4 1 5]\n",
      " [4 1 5]]\n",
      "the three Arrays Are :\n",
      "\n",
      "\n",
      "[[[8 9]\n",
      "  [1 7]]\n",
      "\n",
      " [[3 8]\n",
      "  [2 8]]\n",
      "\n",
      " [[5 3]\n",
      "  [2 6]]]\n"
     ]
    }
   ],
   "source": [
    "# Random floats 0 to 1\n",
    "rand = np.random.rand(2,3)\n",
    "print(\"Random float array:\\n\", rand)\n",
    "\n",
    "# Random integers\n",
    "rand_int = np.random.randint(0, 10, (2,3))  # 0-9\n",
    "print(\"Random integer array:\\n\", rand_int)\n",
    "\n",
    "print(\"the three Arrays Are :\")\n",
    "print(\"\\n\")\n",
    "arr = np.random.randint(0, 10,( 3, 2, 2)) \n",
    " # shape = (num_matrices, rows, cols)\n",
    "print(arr)\n"
   ]
  },
  {
   "cell_type": "markdown",
   "id": "09d9f1f5",
   "metadata": {},
   "source": [
    "Basic Array Operation\n"
   ]
  },
  {
   "cell_type": "code",
   "execution_count": 29,
   "id": "63eb659d",
   "metadata": {},
   "outputs": [
    {
     "name": "stdout",
     "output_type": "stream",
     "text": [
      "addition : [ 5  7  9 11]\n",
      "substraction : [-3 -3 -3 -3]\n",
      "Element Wise Multiplicaiton : [ 4 10 18 28]\n",
      "Element Wise Division :\n",
      " [0.25       0.4        0.5        0.57142857]\n",
      "Exponent : [ 1  4  9 16]\n"
     ]
    }
   ],
   "source": [
    "a= np.array([1,2,3,4])\n",
    "b= np.array([4,5,6,7])\n",
    "\n",
    "print(\"addition :\",a+b)\n",
    "print(\"substraction :\",a-b)\n",
    "print(\"Element Wise Multiplicaiton :\",a*b)\n",
    "print(\"Element Wise Division :\\n\",a/b)\n",
    "print(\"Exponent :\",a**2)"
   ]
  },
  {
   "cell_type": "markdown",
   "id": "488411b2",
   "metadata": {},
   "source": [
    "Indexing and Slicing\n"
   ]
  },
  {
   "cell_type": "code",
   "execution_count": 31,
   "id": "1b048265",
   "metadata": {},
   "outputs": [
    {
     "name": "stdout",
     "output_type": "stream",
     "text": [
      "Original Array : [10 20 30 40 50]\n"
     ]
    }
   ],
   "source": [
    "arr = np.array([10,20,30,40,50])\n",
    "print(\"Original Array :\",arr)"
   ]
  },
  {
   "cell_type": "code",
   "execution_count": null,
   "id": "b184336e",
   "metadata": {},
   "outputs": [
    {
     "name": "stdout",
     "output_type": "stream",
     "text": [
      "first Element : 10\n",
      "last Element : 50\n"
     ]
    }
   ],
   "source": [
    "#Accessing element using Slicing\n",
    "print(\"first Element :\",arr[0])\n",
    "print(\"last Element :\",arr[-1])"
   ]
  },
  {
   "cell_type": "code",
   "execution_count": null,
   "id": "bebe73f4",
   "metadata": {},
   "outputs": [
    {
     "name": "stdout",
     "output_type": "stream",
     "text": [
      "Element from Index 1 t0 3 : [20 30 40]\n",
      "Every other element : [10 30 50]\n"
     ]
    }
   ],
   "source": [
    "#Slicing\n",
    "\n",
    "print(\"Element from Index 1 t0 3 :\",arr[1:4])\n",
    "print(\"Every other element :\", arr[::2])   # start, end, step"
   ]
  },
  {
   "cell_type": "markdown",
   "id": "222f5dab",
   "metadata": {},
   "source": [
    "2D array Indexing\n"
   ]
  },
  {
   "cell_type": "code",
   "execution_count": 35,
   "id": "466bfe6f",
   "metadata": {},
   "outputs": [
    {
     "name": "stdout",
     "output_type": "stream",
     "text": [
      "2d array :\n",
      " [[1 2 3]\n",
      " [4 5 6]\n",
      " [7 8 9]]\n"
     ]
    }
   ],
   "source": [
    "arr2d = np.array([[1,2,3],[4,5,6],[7,8,9]])\n",
    "print(\"2d array :\\n\",arr2d)"
   ]
  },
  {
   "cell_type": "code",
   "execution_count": 59,
   "id": "0e08c000",
   "metadata": {},
   "outputs": [
    {
     "name": "stdout",
     "output_type": "stream",
     "text": [
      "Element at row 1st index and col 2 index : 6\n",
      "First row : [1 2 3]\n",
      "First column : [1 4 7]\n",
      "SubArray :\n",
      " [[2 3]\n",
      " [5 6]]\n"
     ]
    }
   ],
   "source": [
    "print(\"Element at row 1st index and col 2 index :\",arr2d[1,2])\n",
    "print(\"First row :\" , arr2d[0])\n",
    "print(\"First column :\",arr2d[:,0])\n",
    "print(\"SubArray :\\n\",arr2d[0:2 ,1:3])"
   ]
  },
  {
   "cell_type": "markdown",
   "id": "f5d53715",
   "metadata": {},
   "source": [
    "Reshaping And Flattering Array\n"
   ]
  },
  {
   "cell_type": "code",
   "execution_count": null,
   "id": "fdc24c5a",
   "metadata": {},
   "outputs": [
    {
     "name": "stdout",
     "output_type": "stream",
     "text": [
      "OG array : [ 1  2  3  4  5  6  7  8  9 10 11 12]\n",
      "reshaped array in 3X4 :\n",
      " [[ 1  2  3  4]\n",
      " [ 5  6  7  8]\n",
      " [ 9 10 11 12]]\n",
      "Matrix 1: [1 2 3 4]\n",
      "Matrix 2: [5 6 7 8]\n",
      "Matrix 3: [ 9 10 11 12]\n",
      "converted 1d array from 2d array using flatten:\n",
      " [ 1  2  3  4  5  6  7  8  9 10 11 12]\n"
     ]
    }
   ],
   "source": [
    "arr = np.arange(1,13)\n",
    "print(\"OG array :\",arr)\n",
    "\n",
    "#reshape to 3x4 Matrix\n",
    "arr_reshaped = arr.reshape(3,4)\n",
    "print(\"reshaped array in 3X4 :\\n\",arr_reshaped)\n",
    "\n",
    "\n",
    "\n",
    "#flattern back to 1d\n",
    "arr_1d = arr_reshaped.flatten()\n",
    "print(\"converted 1d array from 2d array using flatten:\\n\",arr_1d)"
   ]
  },
  {
   "cell_type": "markdown",
   "id": "e2fa1091",
   "metadata": {},
   "source": [
    "Universal Functions (ufuncs)\n",
    "\n",
    "ufuncs are element-wise fast functions.\n"
   ]
  },
  {
   "cell_type": "code",
   "execution_count": 69,
   "id": "1a1d965d",
   "metadata": {},
   "outputs": [
    {
     "name": "stdout",
     "output_type": "stream",
     "text": [
      "Sum : 15\n",
      "Mean : 3.0\n",
      "Max : 5\n",
      "Min : 1\n",
      "Standart Deviation : 1.4142135623730951\n",
      "Square Root : [1.         1.41421356 1.73205081 2.         2.23606798]\n",
      "Sin values : [ 0.84147098  0.90929743  0.14112001 -0.7568025  -0.95892427]\n"
     ]
    }
   ],
   "source": [
    "arr = np.array([1,2,3,4,5])\n",
    "\n",
    "print(\"Sum :\",np.sum(arr))\n",
    "print(\"Mean :\",np.mean(arr))\n",
    "print(\"Max :\",np.max(arr))\n",
    "print(\"Min :\",np.min(arr))\n",
    "print(\"Standart Deviation :\", np.std(arr))\n",
    "print(\"Square Root :\",np.sqrt(arr))\n",
    "print(\"Sin values :\", np.sin(arr))"
   ]
  },
  {
   "cell_type": "markdown",
   "id": "ef018248",
   "metadata": {},
   "source": [
    "Boolean Indexing (Filtering Arrays)\n",
    "\n",
    "Boolean indexing lets you select elements based on a condition.\n"
   ]
  },
  {
   "cell_type": "code",
   "execution_count": 70,
   "id": "e82effbe",
   "metadata": {},
   "outputs": [],
   "source": [
    "import numpy as np"
   ]
  },
  {
   "cell_type": "code",
   "execution_count": 74,
   "id": "c80431fe",
   "metadata": {},
   "outputs": [
    {
     "name": "stdout",
     "output_type": "stream",
     "text": [
      "Greater than 25 :  [30 40 50 60]\n",
      "Array greater than 20 and less than 60 : [30 40 50]\n"
     ]
    }
   ],
   "source": [
    "arr = np.array([10,20,30,40,50,60])\n",
    "\n",
    "#Getting element greater than 25\n",
    "arr_element = arr[arr > 25]\n",
    "print(\"Greater than 25 : \",arr_element)\n",
    "\n",
    "# Combination of Condition \n",
    "\n",
    "arr_combination = arr[(arr >20) & (arr < 60)]\n",
    "print(\"Array greater than 20 and less than 60 :\",arr_combination)\n"
   ]
  },
  {
   "cell_type": "markdown",
   "id": "678ce2c8",
   "metadata": {},
   "source": [
    "Stacking and Splitting Arrays\n",
    "\n",
    "Stacking Arrays\n",
    "Combine arrays vertically or horizontally.\n"
   ]
  },
  {
   "cell_type": "code",
   "execution_count": 79,
   "id": "7489f5ec",
   "metadata": {},
   "outputs": [
    {
     "name": "stdout",
     "output_type": "stream",
     "text": [
      "your horizontal stack is : [1 2 3 4 5 6]\n",
      "your Vertical stack is : [[1 2 3]\n",
      " [4 5 6]]\n"
     ]
    }
   ],
   "source": [
    "a = np.array([1,2,3])\n",
    "b = np.array([4,5,6])\n",
    "\n",
    "#horizontal Stack \n",
    "\n",
    "H_stack = np.hstack((a,b))\n",
    "print(\"your horizontal stack is :\",H_stack)\n",
    "\n",
    "# Vertical Stack\n",
    "\n",
    "V_stack = np.vstack((a,b))\n",
    "print(\"your Vertical stack is :\",V_stack)\n"
   ]
  },
  {
   "cell_type": "markdown",
   "id": "57fbc022",
   "metadata": {},
   "source": [
    "Splitting Arrays\n",
    "\n",
    "Split arrays into multiple parts.\n"
   ]
  },
  {
   "cell_type": "code",
   "execution_count": 90,
   "id": "4b1a4cd4",
   "metadata": {},
   "outputs": [
    {
     "name": "stdout",
     "output_type": "stream",
     "text": [
      "[array([1, 2]), array([3, 4]), array([5, 6])]\n",
      "OR\n",
      "Matrix 1: [1 2]\n",
      "Matrix 2: [3 4]\n",
      "Matrix 3: [5 6]\n"
     ]
    }
   ],
   "source": [
    "arr = np.array([1,2,3,4,5,6])\n",
    "\n",
    "#spliting into 3 parts\n",
    "split_arr = np.split(arr,3)\n",
    "print(split_arr)\n",
    "\n",
    "print(\"OR\")\n",
    "\n",
    "m1, m2, m3 = np.split(arr, 3)\n",
    "print(\"Matrix 1:\", m1)\n",
    "print(\"Matrix 2:\", m2)\n",
    "print(\"Matrix 3:\", m3)"
   ]
  },
  {
   "cell_type": "markdown",
   "id": "21ec8c5c",
   "metadata": {},
   "source": [
    "Matrix Operations\n",
    "\n",
    "NumPy can do linear algebra and matrix math easily.\n"
   ]
  },
  {
   "cell_type": "code",
   "execution_count": 81,
   "id": "9f4651f9",
   "metadata": {},
   "outputs": [
    {
     "name": "stdout",
     "output_type": "stream",
     "text": [
      "A + B:\n",
      " [[ 6  8]\n",
      " [10 12]]\n",
      "A dot B:\n",
      " [[19 22]\n",
      " [43 50]]\n",
      "Element-wise A*B:\n",
      " [[ 5 12]\n",
      " [21 32]]\n",
      "Transpose of A:\n",
      " [[1 3]\n",
      " [2 4]]\n",
      "Transpose of B:\n",
      " [[5 7]\n",
      " [6 8]]\n"
     ]
    }
   ],
   "source": [
    "A = np.array([\n",
    "    [1,2],\n",
    "    [3,4]\n",
    "])\n",
    "B = np.array([\n",
    "    [5,6],\n",
    "    [7,8]\n",
    "])\n",
    "\n",
    "#Addition\n",
    "print(\"A + B:\\n\", A + B)\n",
    "\n",
    "# Matrix multiplication (dot product)\n",
    "print(\"A dot B:\\n\", np.dot(A,B))\n",
    "\n",
    "# Element-wise multiplication\n",
    "print(\"Element-wise A*B:\\n\", A * B)\n",
    "\n",
    "# Transpose\n",
    "print(\"Transpose of A:\\n\", A.T)\n",
    "print(\"Transpose of B:\\n\",B.T)"
   ]
  },
  {
   "cell_type": "markdown",
   "id": "20e15c48",
   "metadata": {},
   "source": [
    "Aggregation and Axis Operations\n",
    "\n",
    "Axis lets you do operations along rows or columns.\n"
   ]
  },
  {
   "cell_type": "code",
   "execution_count": 82,
   "id": "6d75c433",
   "metadata": {},
   "outputs": [
    {
     "name": "stdout",
     "output_type": "stream",
     "text": [
      "Sum of all Element : 45\n",
      "Sum along Cols : [12 15 18]\n",
      "Sum along Rows : [ 6 15 24]\n"
     ]
    }
   ],
   "source": [
    "arr2d = np.array([\n",
    "        [1,2,3],\n",
    "        [4,5,6],\n",
    "        [7,8,9]\n",
    "])\n",
    "\n",
    "print(\"Sum of all Element :\",np.sum(arr2d))\n",
    "print(\"Sum along Cols :\",np.sum(arr2d,axis=0))\n",
    "print(\"Sum along Rows :\",np.sum(arr2d, axis=1))"
   ]
  },
  {
   "cell_type": "markdown",
   "id": "9d01bcc8",
   "metadata": {},
   "source": [
    "Fancy Indexing\n",
    "\n",
    "Fancy indexing lets you select arbitrary elements using arrays of indices.\n"
   ]
  },
  {
   "cell_type": "code",
   "execution_count": 96,
   "id": "2bc637a9",
   "metadata": {},
   "outputs": [
    {
     "name": "stdout",
     "output_type": "stream",
     "text": [
      "[10 30 50]\n"
     ]
    }
   ],
   "source": [
    "arr = np.array([10,20,30,40,50])\n",
    "indices = [0,2,4]\n",
    "\n",
    "print(arr[indices])"
   ]
  },
  {
   "cell_type": "code",
   "execution_count": 99,
   "id": "a7e7df81",
   "metadata": {},
   "outputs": [
    {
     "name": "stdout",
     "output_type": "stream",
     "text": [
      "[6 9]\n"
     ]
    }
   ],
   "source": [
    "arr2D = np.array([\n",
    "        [1,2,3],\n",
    "        [4,5,6],\n",
    "        [7,8,9]\n",
    "])\n",
    "\n",
    "rows = [1,2]   # both are rows\n",
    "cols = [2,2]    # both are cols\n",
    "\n",
    "print(arr2D[rows,cols])\n"
   ]
  },
  {
   "cell_type": "markdown",
   "id": "30689491",
   "metadata": {},
   "source": [
    "Question:\n",
    "\n",
    "Create 5 random 3x3 matrices\n",
    "\n",
    "Add a vector Array [1,2,3] to each matrix (broadcasting)\n",
    "\n",
    "Apply square root (np.sqrt) to all elements\n",
    "\n",
    "Find the sum of each matrix\n"
   ]
  },
  {
   "cell_type": "code",
   "execution_count": 2,
   "id": "ac8b72c2",
   "metadata": {},
   "outputs": [],
   "source": [
    "import numpy as np"
   ]
  },
  {
   "cell_type": "code",
   "execution_count": 8,
   "id": "f820d1f9",
   "metadata": {},
   "outputs": [
    {
     "name": "stdout",
     "output_type": "stream",
     "text": [
      "Original Matrix :  [[[3 7 7]\n",
      "  [8 4 0]\n",
      "  [7 2 4]]\n",
      "\n",
      " [[3 6 1]\n",
      "  [8 6 0]\n",
      "  [1 4 8]]\n",
      "\n",
      " [[2 8 1]\n",
      "  [2 0 5]\n",
      "  [8 5 3]]\n",
      "\n",
      " [[1 1 5]\n",
      "  [0 0 2]\n",
      "  [4 9 7]]\n",
      "\n",
      " [[1 1 4]\n",
      "  [6 4 7]\n",
      "  [2 6 8]]]\n"
     ]
    }
   ],
   "source": [
    "Matrix = np.random.randint(0,10,(5,3,3))   #start , end ,(NoOfMatrix,Rows,Cols)\n",
    "print(\"Original Matrix : \",Matrix)"
   ]
  },
  {
   "cell_type": "code",
   "execution_count": 22,
   "id": "df3a7471",
   "metadata": {},
   "outputs": [
    {
     "name": "stdout",
     "output_type": "stream",
     "text": [
      "After Adding Vector :\n",
      " [[[ 4  9 10]\n",
      "  [ 9  6  3]\n",
      "  [ 8  4  7]]\n",
      "\n",
      " [[ 4  8  4]\n",
      "  [ 9  8  3]\n",
      "  [ 2  6 11]]\n",
      "\n",
      " [[ 3 10  4]\n",
      "  [ 3  2  8]\n",
      "  [ 9  7  6]]\n",
      "\n",
      " [[ 2  3  8]\n",
      "  [ 1  2  5]\n",
      "  [ 5 11 10]]\n",
      "\n",
      " [[ 2  3  7]\n",
      "  [ 7  6 10]\n",
      "  [ 3  8 11]]]\n"
     ]
    },
    {
     "data": {
      "text/plain": [
       "array([[[2.        , 3.        , 3.16227766],\n",
       "        [3.        , 2.44948974, 1.73205081],\n",
       "        [2.82842712, 2.        , 2.64575131]],\n",
       "\n",
       "       [[2.        , 2.82842712, 2.        ],\n",
       "        [3.        , 2.82842712, 1.73205081],\n",
       "        [1.41421356, 2.44948974, 3.31662479]],\n",
       "\n",
       "       [[1.73205081, 3.16227766, 2.        ],\n",
       "        [1.73205081, 1.41421356, 2.82842712],\n",
       "        [3.        , 2.64575131, 2.44948974]],\n",
       "\n",
       "       [[1.41421356, 1.73205081, 2.82842712],\n",
       "        [1.        , 1.41421356, 2.23606798],\n",
       "        [2.23606798, 3.31662479, 3.16227766]],\n",
       "\n",
       "       [[1.41421356, 1.73205081, 2.64575131],\n",
       "        [2.64575131, 2.44948974, 3.16227766],\n",
       "        [1.73205081, 2.82842712, 3.31662479]]])"
      ]
     },
     "metadata": {},
     "output_type": "display_data"
    }
   ],
   "source": [
    "vector = np.array([1,2,3])\n",
    "\n",
    "Matrix_added = Matrix + vector\n",
    "\n",
    "print(\"After Adding Vector :\\n\",Matrix_added)\n",
    "#squring of matrix \n",
    "\n",
    "Squared_Matix = np.sqrt(Matrix_added)\n",
    "display(Squared_Matix)\n"
   ]
  },
  {
   "cell_type": "code",
   "execution_count": 32,
   "id": "b142cd36",
   "metadata": {},
   "outputs": [
    {
     "name": "stdout",
     "output_type": "stream",
     "text": [
      "[22.81799665 21.56923315 20.96426102 19.33994346 21.92663712]\n"
     ]
    }
   ],
   "source": [
    "Final_matrix = np.sum(Squared_Matix, axis=(1,2))\n",
    "print(Final_matrix)"
   ]
  },
  {
   "cell_type": "markdown",
   "id": "e76842de",
   "metadata": {},
   "source": [
    "QUESTION 2\n",
    "Create a (100, 5) NumPy array with random integers between 0 and 100.\n",
    "\n",
    "Rows = students\n",
    "\n",
    "Columns = subjects\n",
    "\n",
    "Find the average marks of each student → shape (100,).\n",
    "\n",
    "Find the average marks of each subject → shape (5,).\n",
    "\n",
    "Find the top 5 students (by total marks) → return their indices and total scores.\n"
   ]
  },
  {
   "cell_type": "code",
   "execution_count": 34,
   "id": "af4244c3",
   "metadata": {},
   "outputs": [
    {
     "name": "stdout",
     "output_type": "stream",
     "text": [
      "[[59 85  9 17 67]\n",
      " [28 76 17 41 54]\n",
      " [23 66 52 48 59]\n",
      " [13 13 73  8 99]\n",
      " [88 64 47 67 69]\n",
      " [45 16 85 37 31]\n",
      " [79 89 43 23 16]\n",
      " [13 52 67 71  2]\n",
      " [28 85 36 79 48]\n",
      " [17  2 68 33 24]\n",
      " [48 54  5  8 52]\n",
      " [77 61 43  6 34]\n",
      " [ 9 68 74  0  3]\n",
      " [98 60  5 23 52]\n",
      " [12 48 82 18 32]\n",
      " [95 99 91 54 97]\n",
      " [51 38 71 66 60]\n",
      " [77 70 53 20 54]\n",
      " [77 43  9 66 40]\n",
      " [24 57  4 77 95]\n",
      " [62 80  3 89  2]\n",
      " [25 79 79 94 15]\n",
      " [13 23 54 11 31]\n",
      " [11 71 96 56 95]\n",
      " [97 22 13 38  0]\n",
      " [39 56 32 30 12]\n",
      " [97 40 63 58 73]\n",
      " [30 69 68 87 45]\n",
      " [45 67 46 70 86]\n",
      " [ 0 60 89 56 96]\n",
      " [43  4  6 90 80]\n",
      " [55 69 26 19 21]\n",
      " [74 18 74 92 27]\n",
      " [38 60 72 81 21]\n",
      " [55 59 73 17 81]\n",
      " [57 51 78 77  2]\n",
      " [60 71 95 56 50]\n",
      " [24 56 62 45 98]\n",
      " [80 67 97 74 44]\n",
      " [90 31 98 90 60]\n",
      " [60 30 25 71 11]\n",
      " [37  2 30 48 27]\n",
      " [33 58 55 35 58]\n",
      " [ 4  1 63 49 85]\n",
      " [61  6  7 57 70]\n",
      " [51 99 77 72 69]\n",
      " [96 94 70  1 56]\n",
      " [63 17 21 21 62]\n",
      " [ 9 40 53  2 16]\n",
      " [16 35 63 75 57]\n",
      " [53 55 35 33  8]\n",
      " [93 83 30 45 23]\n",
      " [43 23 24 53 56]\n",
      " [23 10 15 43 87]\n",
      " [47 47 80 33 79]\n",
      " [44 43 59 83 81]\n",
      " [27 22 99 10 52]\n",
      " [24 93 68 48 41]\n",
      " [61 75 34 57 27]\n",
      " [87 56  0 87 91]\n",
      " [37 87 25 45 39]\n",
      " [ 5 99 27 74 77]\n",
      " [29 52 73 22 68]\n",
      " [24 90 85 74 54]\n",
      " [78 76 54 78 21]\n",
      " [26  5 65 59 37]\n",
      " [96 45 79 92 36]\n",
      " [70  9  4  4 18]\n",
      " [87 42 99 84 51]\n",
      " [80  4 35  2  8]\n",
      " [ 7 14 12  3 28]\n",
      " [37  6 83 92 24]\n",
      " [14 94 26  9 19]\n",
      " [33 82 85  9 10]\n",
      " [30  2 42 71 81]\n",
      " [43 79 95 95 89]\n",
      " [38 92 17 89 43]\n",
      " [57 18 84 42 37]\n",
      " [13 44 97 38 40]\n",
      " [74  9 72 76 82]\n",
      " [81 92 34 42 54]\n",
      " [46 79 93 48 27]\n",
      " [ 4 46  5 56  9]\n",
      " [67 12 60 49 88]\n",
      " [20 54 22 32 50]\n",
      " [69 26 66 20 46]\n",
      " [53 95 97 42 58]\n",
      " [49 68 30 12 59]\n",
      " [72 32 41 86 33]\n",
      " [82 60 45 88 51]\n",
      " [26 58 77  6 37]\n",
      " [87 24 51 85 95]\n",
      " [59 56 34 46 37]\n",
      " [36 12 85 10 56]\n",
      " [24 14 63 63 27]\n",
      " [ 6 16 92  3 26]\n",
      " [24 53 84 16 32]\n",
      " [14 56 90 98  0]\n",
      " [59 51 23 14 76]\n",
      " [22 73 99 73 16]]\n"
     ]
    }
   ],
   "source": [
    "\n",
    "import numpy as np\n",
    "\n",
    "#step 1 by creating random integer b/w 0 - 100\n",
    "\n",
    "marks = np.random.randint(0 ,100 ,(100,5))\n",
    "print(marks)"
   ]
  },
  {
   "cell_type": "code",
   "execution_count": null,
   "id": "129f2962",
   "metadata": {},
   "outputs": [
    {
     "name": "stdout",
     "output_type": "stream",
     "text": [
      "[47.4 43.2 49.6 41.2 67.  42.8 50.  41.  55.2 28.8 33.4 44.2 30.8 47.6\n",
      " 38.4 87.2 57.2 54.8 47.  51.4 47.2 58.4 26.4 65.8 34.  33.8 66.2 59.8\n",
      " 62.8 60.2 44.6 38.  57.  54.4 57.  53.  66.4 57.  72.4 73.8 39.4 28.8\n",
      " 47.8 40.4 40.2 73.6 63.4 36.8 24.  49.2 36.8 54.8 39.8 35.6 57.2 62.\n",
      " 42.  54.8 50.8 64.2 46.6 56.4 48.8 65.4 61.4 38.4 69.6 21.  72.6 25.8\n",
      " 12.8 48.4 32.4 43.8 45.2 80.2 55.8 47.6 46.4 62.6 60.6 58.6 24.  55.2\n",
      " 35.6 45.4 69.  43.6 52.8 65.2 40.8 68.4 46.4 39.8 38.2 28.6 41.8 51.6\n",
      " 44.6 56.6]\n",
      "\n",
      "\n",
      "First five student avg : [47.4 43.2 49.6 41.2 67. ]\n"
     ]
    }
   ],
   "source": [
    "#  print(marks.shape)    will return the shape of the matrix (100 ,5)\n",
    "\n",
    "#Step 2 average Marks of Student\n",
    "\n",
    "student_avg = np.mean(marks,axis=1)\n",
    "print(student_avg)\n",
    "\n"
   ]
  },
  {
   "cell_type": "code",
   "execution_count": null,
   "id": "55b6c5d6",
   "metadata": {},
   "outputs": [
    {
     "name": "stdout",
     "output_type": "stream",
     "text": [
      "[46.66 50.14 54.16 48.62 47.22]\n"
     ]
    }
   ],
   "source": [
    "#step 3 Finding the Average marks of each subject\n",
    "\n",
    "Average_Each_Sub_marks = np.mean(marks,axis = 0)\n",
    "print(Average_Each_Sub_marks)"
   ]
  },
  {
   "cell_type": "code",
   "execution_count": 44,
   "id": "e4b6a1f1",
   "metadata": {},
   "outputs": [
    {
     "name": "stdout",
     "output_type": "stream",
     "text": [
      "[237 216 248 206 335 214 250 205 276 144 167 221 154 238 192 436 286 274\n",
      " 235 257 236 292 132 329 170 169 331 299 314 301 223 190 285 272 285 265\n",
      " 332 285 362 369 197 144 239 202 201 368 317 184 120 246 184 274 199 178\n",
      " 286 310 210 274 254 321 233 282 244 327 307 192 348 105 363 129  64 242\n",
      " 162 219 226 401 279 238 232 313 303 293 120 276 178 227 345 218 264 326\n",
      " 204 342 232 199 191 143 209 258 223 283]\n"
     ]
    }
   ],
   "source": [
    "#finding total Marks of each student\n",
    "total_marks = np.sum(marks , axis = 1)\n",
    "print(total_marks)"
   ]
  },
  {
   "cell_type": "code",
   "execution_count": 48,
   "id": "bd751759",
   "metadata": {},
   "outputs": [
    {
     "name": "stdout",
     "output_type": "stream",
     "text": [
      "[70 67 48 82 69 22 95 41  9 12 72 10 25 24 53 84 50 47 31 94 14 65 40 93\n",
      " 52 44 43 90  7  3 96 56  5  1 87 73 11 98 30 74 85 78 92 60 18 20  0 77\n",
      " 13 42 71 62 49  2  6 58 19 97 88 35 33 17 51 57  8 83 76 61 99 32 37 34\n",
      " 54 16 21 81 27 29 80 64 55 79 28 46 59 89 63 23 26 36  4 91 86 66 38 68\n",
      " 45 39 75 15]\n"
     ]
    }
   ],
   "source": [
    "sorted_marks = np.argsort(total_marks)\n",
    "print(sorted_marks)"
   ]
  },
  {
   "cell_type": "code",
   "execution_count": 52,
   "id": "dca5193f",
   "metadata": {},
   "outputs": [
    {
     "name": "stdout",
     "output_type": "stream",
     "text": [
      "Top student Index  [68 45 39 75 15]\n",
      "Top Student Marks :\n",
      " [[87 42 99 84 51]\n",
      " [51 99 77 72 69]\n",
      " [90 31 98 90 60]\n",
      " [43 79 95 95 89]\n",
      " [95 99 91 54 97]]\n"
     ]
    }
   ],
   "source": [
    "# taking max marks five student from last\n",
    "top_student = sorted_marks[-5:]\n",
    "\n",
    "print(\"Top student Index \",top_student)\n",
    "print(\"Top Student Marks :\\n\",marks[top_student])"
   ]
  },
  {
   "cell_type": "markdown",
   "id": "636d56c5",
   "metadata": {},
   "source": [
    "NumPy Broadcasting\n",
    "\n",
    "Definition:\n",
    "Broadcasting is NumPy’s way of automatically expanding arrays of different shapes so they can be used together in operations without writing loops.\n"
   ]
  },
  {
   "cell_type": "code",
   "execution_count": 53,
   "id": "8207ec97",
   "metadata": {},
   "outputs": [
    {
     "name": "stdout",
     "output_type": "stream",
     "text": [
      "[6 7 8 9]\n",
      "[10 20 30 40]\n"
     ]
    }
   ],
   "source": [
    "arr = np.array([1, 2, 3, 4])\n",
    "\n",
    "print(arr + 5)  # Add 5 to every element\n",
    "print(arr * 10)  # Multiply 10 to every element"
   ]
  },
  {
   "cell_type": "code",
   "execution_count": 55,
   "id": "f44ac284",
   "metadata": {},
   "outputs": [
    {
     "name": "stdout",
     "output_type": "stream",
     "text": [
      "[[11 22 33]\n",
      " [14 25 36]]\n"
     ]
    }
   ],
   "source": [
    "#Row Vector with Matrix\n",
    "\n",
    "A = np.array([[1, 2, 3],[4, 5, 6]])\n",
    "\n",
    "B = np.array([10, 20, 30])\n",
    "\n",
    "print(A + B)\n"
   ]
  },
  {
   "cell_type": "code",
   "execution_count": 56,
   "id": "8bd85f55",
   "metadata": {},
   "outputs": [
    {
     "name": "stdout",
     "output_type": "stream",
     "text": [
      "[[11 12 13]\n",
      " [24 25 26]]\n"
     ]
    }
   ],
   "source": [
    "#Column Vector with Matrix\n",
    "\n",
    "A = np.array([[1, 2, 3],\n",
    "              [4, 5, 6]])\n",
    "\n",
    "c = np.array([[10],\n",
    "              [20]])\n",
    "\n",
    "print(A + c)"
   ]
  },
  {
   "cell_type": "markdown",
   "id": "2866b822",
   "metadata": {},
   "source": [
    "Shape Rules (important ⚠️)\n",
    "\n",
    "Two arrays can be broadcast together if their shapes are compatible:\n",
    "\n",
    "Compare shapes from right to left.\n",
    "\n",
    "Dimensions must be equal OR one of them must be 1.\n",
    "\n",
    "(2, 3) with (3,) ✅\n",
    "\n",
    "(4, 1, 3) with (3,) ✅\n",
    "\n",
    "(2,3) with (2,) ❌ (mismatch)\n"
   ]
  },
  {
   "cell_type": "markdown",
   "id": "d389d820",
   "metadata": {},
   "source": [
    "Real Example\n",
    "\n",
    "Imagine you have student's marks in 3 subjects:\n"
   ]
  },
  {
   "cell_type": "code",
   "execution_count": null,
   "id": "33aa46c4",
   "metadata": {},
   "outputs": [
    {
     "name": "stdout",
     "output_type": "stream",
     "text": [
      "[[10. 18. 35.]\n",
      " [16. 27. 50.]\n",
      " [ 8. 15. 30.]]\n"
     ]
    }
   ],
   "source": [
    "marks =np.array([\n",
    "            [50, 60, 70],    # marks of student 1   subject  wise\n",
    "            [80, 90,100],    # marks of student 2\n",
    "            [40, 50, 60]     # marks of student 3\n",
    "])\n",
    "\n",
    "Weights = np.array([0.2,0.3,0.5])   # wight of each subjects\n",
    "\n",
    "weighted = marks*Weights\n",
    "\n",
    "print(weighted)\n"
   ]
  },
  {
   "cell_type": "markdown",
   "id": "49658452",
   "metadata": {},
   "source": [
    "That’s broadcasting! It replaces big loops with 1 line.\n"
   ]
  },
  {
   "cell_type": "code",
   "execution_count": null,
   "id": "ac81396f",
   "metadata": {},
   "outputs": [],
   "source": []
  }
 ],
 "metadata": {
  "kernelspec": {
   "display_name": "Python 3",
   "language": "python",
   "name": "python3"
  },
  "language_info": {
   "codemirror_mode": {
    "name": "ipython",
    "version": 3
   },
   "file_extension": ".py",
   "mimetype": "text/x-python",
   "name": "python",
   "nbconvert_exporter": "python",
   "pygments_lexer": "ipython3",
   "version": "3.13.5"
  }
 },
 "nbformat": 4,
 "nbformat_minor": 5
}
